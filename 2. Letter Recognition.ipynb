{
 "cells": [
  {
   "cell_type": "code",
   "execution_count": null,
   "id": "8da5449e",
   "metadata": {},
   "outputs": [],
   "source": [
    "import numpy as np\n",
    "import pandas as pd\n",
    "from sklearn.model_selection import train_test_split\n",
    "from keras.models import Sequential\n",
    "from keras.layers import Dense\n",
    "\n",
    "column_names=['letter','xbox','ybox','width','high','opix','x-bar','y-bar','xybar','x2bar','y2bar','x2ybar','xy2bar','x-ege','y-ege','xegvy','yegvx']\n",
    "\n",
    "df=pd.read_csv('letter-recognition.data',header=None,names=column_names)\n",
    "\n",
    "X=df.drop('letter',axis=1)\n",
    "y=df['letter']\n",
    "\n",
    "X_train,X_test,Y_train,Y_test=train_test_split(X,y,test_size=0.2,random_state=42)\n",
    "\n",
    "num_classes=len(np.unique(y))\n",
    "Y_train=pd.get_dummies(Y_train)\n",
    "Y_test=pd.get_dummies(Y_test)\n",
    "\n",
    "model=Sequential()\n",
    "model.add(Dense(64, input_shape=(16,),activation='relu'))\n",
    "model.add(Dense(64, activation='relu'))\n",
    "model.add(Dense(num_classes,activation='softmax'))\n",
    "\n",
    "model.compile(loss='categorical_crossentropy',optimizer='adam',metrics=['accuracy'])\n",
    "\n",
    "model.summary()\n",
    "model.fit(X_train,Y_train,epochs=100,batch_size=32,validation_data=(X_test,Y_test))\n",
    "\n",
    "\n",
    "loss,accuracy=model.evaluate(X_test,Y_test)\n",
    "print(\"Test Loss\",loss)\n",
    "print(\"Test Accuracy\",accuracy)"
   ]
  }
 ],
 "metadata": {
  "kernelspec": {
   "display_name": "Python 3 (ipykernel)",
   "language": "python",
   "name": "python3"
  },
  "language_info": {
   "codemirror_mode": {
    "name": "ipython",
    "version": 3
   },
   "file_extension": ".py",
   "mimetype": "text/x-python",
   "name": "python",
   "nbconvert_exporter": "python",
   "pygments_lexer": "ipython3",
   "version": "3.9.13"
  }
 },
 "nbformat": 4,
 "nbformat_minor": 5
}
